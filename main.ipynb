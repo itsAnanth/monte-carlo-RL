{
 "cells": [
  {
   "cell_type": "code",
   "execution_count": 189,
   "id": "bb5f55fb",
   "metadata": {},
   "outputs": [],
   "source": [
    "import numpy as np\n",
    "from tabulate import tabulate"
   ]
  },
  {
   "cell_type": "code",
   "execution_count": 190,
   "id": "bad611ec",
   "metadata": {},
   "outputs": [],
   "source": [
    "np.random.seed(47)"
   ]
  },
  {
   "cell_type": "code",
   "execution_count": 191,
   "id": "f01f9763",
   "metadata": {},
   "outputs": [
    {
     "data": {
      "text/plain": [
       "({'up': 0, 'down': 1, 'left': 2, 'right': 3},\n",
       " {0: 'up', 1: 'down', 2: 'left', 3: 'right'})"
      ]
     },
     "execution_count": 191,
     "metadata": {},
     "output_type": "execute_result"
    }
   ],
   "source": [
    "actionsMap = { action: i for i, action in enumerate(['up', 'down', 'left', 'right']) }\n",
    "reverseActionsMap = { v: k for k, v in actionsMap.items() }\n",
    "actionsMap, reverseActionsMap"
   ]
  },
  {
   "cell_type": "code",
   "execution_count": 192,
   "id": "74a5e670",
   "metadata": {},
   "outputs": [],
   "source": [
    "def getValidActions(pos):\n",
    "    row, col = pos\n",
    "\n",
    "    actions = []\n",
    "    if row > 0:\n",
    "        actions.append(actionsMap['up'])\n",
    "    if row < 3:\n",
    "        actions.append(actionsMap['down'])\n",
    "    if col > 0:\n",
    "        actions.append(actionsMap['left'])\n",
    "    if col < 3:\n",
    "        actions.append(actionsMap['right'])\n",
    "    return actions\n",
    "\n",
    "def move(currentState, action):\n",
    "    row, col = currentState\n",
    "    if action == actionsMap['up']:\n",
    "        row -= 1\n",
    "    elif action == actionsMap['down']:\n",
    "        row += 1\n",
    "    elif action == actionsMap['left']:\n",
    "        col -= 1\n",
    "    elif action == actionsMap['right']:\n",
    "        col += 1\n",
    "    return (row, col)\n",
    "\n",
    "def getReward(curr):\n",
    "    if curr == (1, 1):\n",
    "        return -10\n",
    "    elif curr == (3, 3):\n",
    "        return 10\n",
    "    else:\n",
    "        return -1"
   ]
  },
  {
   "cell_type": "code",
   "execution_count": 193,
   "id": "71f7ea77",
   "metadata": {},
   "outputs": [
    {
     "data": {
      "text/plain": [
       "{(0, 0): {1: 0, 3: 0},\n",
       " (0, 1): {1: 0, 2: 0, 3: 0},\n",
       " (0, 2): {1: 0, 2: 0, 3: 0},\n",
       " (0, 3): {1: 0, 2: 0},\n",
       " (1, 0): {0: 0, 1: 0, 3: 0},\n",
       " (1, 1): {0: 0, 1: 0, 2: 0, 3: 0},\n",
       " (1, 2): {0: 0, 1: 0, 2: 0, 3: 0},\n",
       " (1, 3): {0: 0, 1: 0, 2: 0},\n",
       " (2, 0): {0: 0, 1: 0, 3: 0},\n",
       " (2, 1): {0: 0, 1: 0, 2: 0, 3: 0},\n",
       " (2, 2): {0: 0, 1: 0, 2: 0, 3: 0},\n",
       " (2, 3): {0: 0, 1: 0, 2: 0},\n",
       " (3, 0): {0: 0, 3: 0},\n",
       " (3, 1): {0: 0, 2: 0, 3: 0},\n",
       " (3, 2): {0: 0, 2: 0, 3: 0},\n",
       " (3, 3): {0: 0, 2: 0}}"
      ]
     },
     "execution_count": 193,
     "metadata": {},
     "output_type": "execute_result"
    }
   ],
   "source": [
    "qvalues = dict()\n",
    "for i in range(4):\n",
    "    for j in range(4):\n",
    "        qvalues[(i, j)] = { a: 0 for a in getValidActions((i, j)) }\n",
    "qvalues"
   ]
  },
  {
   "cell_type": "code",
   "execution_count": 194,
   "id": "a0e45eca",
   "metadata": {},
   "outputs": [
    {
     "name": "stdout",
     "output_type": "stream",
     "text": [
      "[(((0, 0), np.int64(3)), -1), (((0, 1), np.int64(3)), -1), (((0, 2), np.int64(1)), -1), (((1, 2), np.int64(0)), -1), (((0, 2), np.int64(1)), -1), (((1, 2), np.int64(3)), -1), (((1, 3), np.int64(0)), -1), (((0, 3), np.int64(2)), -1), (((0, 2), np.int64(2)), -1), (((0, 1), np.int64(2)), -1), (((0, 0), np.int64(3)), -1), (((0, 1), np.int64(3)), -1), (((0, 2), np.int64(3)), -1), (((0, 3), np.int64(1)), -1), (((1, 3), np.int64(1)), -1), (((2, 3), np.int64(0)), -1), (((1, 3), np.int64(0)), -1), (((0, 3), np.int64(2)), -1), (((0, 2), np.int64(3)), -1), (((0, 3), np.int64(2)), -1), (((0, 2), np.int64(2)), -1), (((0, 1), np.int64(2)), -1), (((0, 0), np.int64(1)), -1), (((1, 0), np.int64(1)), -1), (((2, 0), np.int64(0)), -1), (((1, 0), np.int64(3)), -10)]\n",
      "[(((0, 0), np.int64(1)), -1), (((1, 0), np.int64(3)), -10)]\n",
      "[(((0, 0), np.int64(1)), -1), (((1, 0), np.int64(1)), -1), (((2, 0), np.int64(0)), -1), (((1, 0), np.int64(0)), -1), (((0, 0), np.int64(3)), -1), (((0, 1), np.int64(2)), -1), (((0, 0), np.int64(3)), -1), (((0, 1), np.int64(3)), -1), (((0, 2), np.int64(3)), -1), (((0, 3), np.int64(2)), -1), (((0, 2), np.int64(2)), -1), (((0, 1), np.int64(2)), -1), (((0, 0), np.int64(3)), -1), (((0, 1), np.int64(2)), -1), (((0, 0), np.int64(3)), -1), (((0, 1), np.int64(3)), -1), (((0, 2), np.int64(2)), -1), (((0, 1), np.int64(3)), -1), (((0, 2), np.int64(1)), -1), (((1, 2), np.int64(3)), -1), (((1, 3), np.int64(1)), -1), (((2, 3), np.int64(1)), 10)]\n",
      "[(((0, 0), np.int64(1)), -1), (((1, 0), np.int64(1)), -1), (((2, 0), np.int64(3)), -1), (((2, 1), np.int64(0)), -10)]\n",
      "[(((0, 0), np.int64(1)), -1), (((1, 0), np.int64(3)), -10)]\n",
      "[(((0, 0), np.int64(3)), -1), (((0, 1), np.int64(2)), -1), (((0, 0), np.int64(1)), -1), (((1, 0), np.int64(0)), -1), (((0, 0), np.int64(1)), -1), (((1, 0), np.int64(0)), -1), (((0, 0), np.int64(3)), -1), (((0, 1), np.int64(3)), -1), (((0, 2), np.int64(3)), -1), (((0, 3), np.int64(1)), -1), (((1, 3), np.int64(1)), -1), (((2, 3), np.int64(2)), -1), (((2, 2), np.int64(0)), -1), (((1, 2), np.int64(1)), -1), (((2, 2), np.int64(0)), -1), (((1, 2), np.int64(0)), -1), (((0, 2), np.int64(1)), -1), (((1, 2), np.int64(3)), -1), (((1, 3), np.int64(0)), -1), (((0, 3), np.int64(2)), -1), (((0, 2), np.int64(3)), -1), (((0, 3), np.int64(1)), -1), (((1, 3), np.int64(2)), -1), (((1, 2), np.int64(2)), -10)]\n",
      "[(((0, 0), np.int64(1)), -1), (((1, 0), np.int64(1)), -1), (((2, 0), np.int64(1)), -1), (((3, 0), np.int64(0)), -1), (((2, 0), np.int64(3)), -1), (((2, 1), np.int64(1)), -1), (((3, 1), np.int64(3)), -1), (((3, 2), np.int64(0)), -1), (((2, 2), np.int64(0)), -1), (((1, 2), np.int64(0)), -1), (((0, 2), np.int64(1)), -1), (((1, 2), np.int64(1)), -1), (((2, 2), np.int64(0)), -1), (((1, 2), np.int64(0)), -1), (((0, 2), np.int64(1)), -1), (((1, 2), np.int64(1)), -1), (((2, 2), np.int64(0)), -1), (((1, 2), np.int64(0)), -1), (((0, 2), np.int64(1)), -1), (((1, 2), np.int64(1)), -1), (((2, 2), np.int64(2)), -1), (((2, 1), np.int64(3)), -1), (((2, 2), np.int64(3)), -1), (((2, 3), np.int64(0)), -1), (((1, 3), np.int64(0)), -1), (((0, 3), np.int64(2)), -1), (((0, 2), np.int64(2)), -1), (((0, 1), np.int64(1)), -10)]\n",
      "[(((0, 0), np.int64(3)), -1), (((0, 1), np.int64(2)), -1), (((0, 0), np.int64(3)), -1), (((0, 1), np.int64(1)), -10)]\n",
      "[(((0, 0), np.int64(3)), -1), (((0, 1), np.int64(3)), -1), (((0, 2), np.int64(2)), -1), (((0, 1), np.int64(3)), -1), (((0, 2), np.int64(3)), -1), (((0, 3), np.int64(2)), -1), (((0, 2), np.int64(3)), -1), (((0, 3), np.int64(1)), -1), (((1, 3), np.int64(2)), -1), (((1, 2), np.int64(1)), -1), (((2, 2), np.int64(3)), -1), (((2, 3), np.int64(1)), 10)]\n",
      "[(((0, 0), np.int64(1)), -1), (((1, 0), np.int64(3)), -10)]\n"
     ]
    }
   ],
   "source": [
    "def generateEpisode():\n",
    "    trajectory = []\n",
    "    curr = (0, 0)\n",
    "    while curr != (1, 1) and curr != (3, 3):\n",
    "        # action = max(epsilon_soft_policy(qvalues[curr]), key= lambda x: x[1])[0]\n",
    "        action = np.random.choice(getValidActions(curr))\n",
    "        # print(f\"at pos {curr} got action {reverseActionsMap[action]}\")\n",
    "        next = move(curr, action)\n",
    "        trajectory.append(((curr, action), getReward(next)))\n",
    "        curr = next\n",
    "\n",
    "    return trajectory\n",
    "\n",
    "for i in range(10):\n",
    "    print(generateEpisode())"
   ]
  },
  {
   "cell_type": "code",
   "execution_count": 195,
   "id": "0d70f8ef",
   "metadata": {},
   "outputs": [],
   "source": [
    "# %%\n",
    "def montecarlo(trajectories, qvalues, gamma=0.9):\n",
    "    returns_sum = dict()\n",
    "    returns_count = dict()\n",
    "\n",
    "    for trajectory in trajectories:\n",
    "        G = 0\n",
    "        visited = set()\n",
    "\n",
    "        # Work backwards to calculate returns\n",
    "        for t in reversed(range(len(trajectory))):\n",
    "            (state, action), reward = trajectory[t]\n",
    "            G = gamma * G + reward\n",
    "\n",
    "            if (state, action) not in visited:\n",
    "                visited.add((state, action))\n",
    "                \n",
    "                if (state, action) not in returns_sum:\n",
    "                    returns_sum[(state, action)] = 0\n",
    "                    returns_count[(state, action)] = 0\n",
    "\n",
    "                returns_sum[(state, action)] += G\n",
    "                returns_count[(state, action)] += 1\n",
    "                qvalues[state][action] = returns_sum[(state, action)] / returns_count[(state, action)]\n"
   ]
  },
  {
   "cell_type": "code",
   "execution_count": 196,
   "id": "a1728902",
   "metadata": {},
   "outputs": [],
   "source": [
    "# %%\n",
    "episodes = [generateEpisode() for _ in range(5000)]\n",
    "montecarlo(episodes, qvalues, gamma=0.9)\n"
   ]
  },
  {
   "cell_type": "code",
   "execution_count": 197,
   "id": "f4c1b2e2",
   "metadata": {},
   "outputs": [
    {
     "data": {
      "text/plain": [
       "{(0, 0): {1: -9.205448440289553, 3: -9.333662502373135},\n",
       " (0, 1): {1: -10.0, 2: -9.400504633453211, 3: -8.367521730225363},\n",
       " (0, 2): {1: -7.532025612984717, 2: -9.36966442406668, 3: -7.182162298262367},\n",
       " (0, 3): {1: -5.414012293874806, 2: -7.941984101034038},\n",
       " (1, 0): {0: -9.288042160190543, 1: -8.030559424666993, 3: -10.0},\n",
       " (1, 1): {0: 0, 1: 0, 2: 0, 3: 0},\n",
       " (1, 2): {0: -7.9262737595681765,\n",
       "  1: -4.436862767862954,\n",
       "  2: -10.0,\n",
       "  3: -5.391556338020939},\n",
       " (1, 3): {0: -6.965175577867602,\n",
       "  1: -0.25905708293845403,\n",
       "  2: -7.1084221702748875},\n",
       " (2, 0): {0: -9.34441155138185, 1: -6.670705604649064, 3: -7.35491553513547},\n",
       " (2, 1): {0: -10.0,\n",
       "  1: -5.650931211610691,\n",
       "  2: -8.403563532827595,\n",
       "  3: -3.7788309408551926},\n",
       " (2, 2): {0: -6.929705129168563,\n",
       "  1: 0.6757660523598975,\n",
       "  2: -7.530833826236013,\n",
       "  3: -0.004210412388726882},\n",
       " (2, 3): {0: -4.90051353660186, 1: 10.0, 2: -3.7546920884401285},\n",
       " (3, 0): {0: -7.843830714332813, 3: -4.677193859371143},\n",
       " (3, 1): {0: -6.731531918381403,\n",
       "  2: -6.533091155450677,\n",
       "  3: -0.04742972159804546},\n",
       " (3, 2): {0: -3.8057664318082205, 2: -5.47197275731628, 3: 10.0},\n",
       " (3, 3): {0: 0, 2: 0}}"
      ]
     },
     "execution_count": 197,
     "metadata": {},
     "output_type": "execute_result"
    }
   ],
   "source": [
    "qvalues"
   ]
  },
  {
   "cell_type": "code",
   "execution_count": 198,
   "id": "f0016627",
   "metadata": {},
   "outputs": [
    {
     "name": "stdout",
     "output_type": "stream",
     "text": [
      "+-------+-------+-------+------+\n",
      "| down  | right | right | down |\n",
      "+-------+-------+-------+------+\n",
      "| down  | x     | down  | down |\n",
      "+-------+-------+-------+------+\n",
      "| down  | right | down  | down |\n",
      "+-------+-------+-------+------+\n",
      "| right | right | right | G    |\n",
      "+-------+-------+-------+------+\n"
     ]
    }
   ],
   "source": [
    "policy = []\n",
    "for i in range(4):\n",
    "\n",
    "    row = []\n",
    "    for j in range(4):\n",
    "        curr = (i, j)\n",
    "        best_action = max(qvalues[curr].items(), key=lambda x: x[1])[0]\n",
    "        best_action = reverseActionsMap[best_action]\n",
    "        row.append(best_action)\n",
    "    policy.append(row)\n",
    "    row = []\n",
    "\n",
    "policy[1][1] = 'x'\n",
    "policy[3][3] = 'G'\n",
    "\n",
    "print(tabulate(policy, tablefmt='grid'))\n"
   ]
  }
 ],
 "metadata": {
  "kernelspec": {
   "display_name": "Python 3",
   "language": "python",
   "name": "python3"
  },
  "language_info": {
   "codemirror_mode": {
    "name": "ipython",
    "version": 3
   },
   "file_extension": ".py",
   "mimetype": "text/x-python",
   "name": "python",
   "nbconvert_exporter": "python",
   "pygments_lexer": "ipython3",
   "version": "3.13.5"
  }
 },
 "nbformat": 4,
 "nbformat_minor": 5
}
