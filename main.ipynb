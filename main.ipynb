{
 "cells": [
  {
   "cell_type": "code",
   "execution_count": 49,
   "id": "bb5f55fb",
   "metadata": {},
   "outputs": [],
   "source": [
    "import numpy as np\n",
    "from tabulate import tabulate"
   ]
  },
  {
   "cell_type": "code",
   "execution_count": 50,
   "id": "bad611ec",
   "metadata": {},
   "outputs": [],
   "source": [
    "np.random.seed(47)"
   ]
  },
  {
   "cell_type": "code",
   "execution_count": 51,
   "id": "f01f9763",
   "metadata": {},
   "outputs": [
    {
     "data": {
      "text/plain": [
       "({'up': 0, 'down': 1, 'left': 2, 'right': 3},\n",
       " {0: 'up', 1: 'down', 2: 'left', 3: 'right'})"
      ]
     },
     "execution_count": 51,
     "metadata": {},
     "output_type": "execute_result"
    }
   ],
   "source": [
    "actionsMap = { action: i for i, action in enumerate(['up', 'down', 'left', 'right']) }\n",
    "reverseActionsMap = { v: k for k, v in actionsMap.items() }\n",
    "actionsMap, reverseActionsMap"
   ]
  },
  {
   "cell_type": "code",
   "execution_count": 52,
   "id": "74a5e670",
   "metadata": {},
   "outputs": [],
   "source": [
    "def getValidActions(pos):\n",
    "    row, col = pos\n",
    "\n",
    "    actions = []\n",
    "    if row > 0:\n",
    "        actions.append(actionsMap['up'])\n",
    "    if row < 3:\n",
    "        actions.append(actionsMap['down'])\n",
    "    if col > 0:\n",
    "        actions.append(actionsMap['left'])\n",
    "    if col < 3:\n",
    "        actions.append(actionsMap['right'])\n",
    "    return actions\n",
    "\n",
    "def move(currentState, action):\n",
    "    row, col = currentState\n",
    "    if action == actionsMap['up']:\n",
    "        row -= 1\n",
    "    elif action == actionsMap['down']:\n",
    "        row += 1\n",
    "    elif action == actionsMap['left']:\n",
    "        col -= 1\n",
    "    elif action == actionsMap['right']:\n",
    "        col += 1\n",
    "    return (row, col)\n",
    "\n",
    "def getReward(curr):\n",
    "    if curr == (1, 1):\n",
    "        return -10\n",
    "    elif curr == (3, 3):\n",
    "        return 10\n",
    "    else:\n",
    "        return -1"
   ]
  },
  {
   "cell_type": "code",
   "execution_count": 53,
   "id": "71f7ea77",
   "metadata": {},
   "outputs": [
    {
     "data": {
      "text/plain": [
       "{(0, 0): {1: 0, 3: 0},\n",
       " (0, 1): {1: 0, 2: 0, 3: 0},\n",
       " (0, 2): {1: 0, 2: 0, 3: 0},\n",
       " (0, 3): {1: 0, 2: 0},\n",
       " (1, 0): {0: 0, 1: 0, 3: 0},\n",
       " (1, 1): {0: 0, 1: 0, 2: 0, 3: 0},\n",
       " (1, 2): {0: 0, 1: 0, 2: 0, 3: 0},\n",
       " (1, 3): {0: 0, 1: 0, 2: 0},\n",
       " (2, 0): {0: 0, 1: 0, 3: 0},\n",
       " (2, 1): {0: 0, 1: 0, 2: 0, 3: 0},\n",
       " (2, 2): {0: 0, 1: 0, 2: 0, 3: 0},\n",
       " (2, 3): {0: 0, 1: 0, 2: 0},\n",
       " (3, 0): {0: 0, 3: 0},\n",
       " (3, 1): {0: 0, 2: 0, 3: 0},\n",
       " (3, 2): {0: 0, 2: 0, 3: 0},\n",
       " (3, 3): {0: 0, 2: 0}}"
      ]
     },
     "execution_count": 53,
     "metadata": {},
     "output_type": "execute_result"
    }
   ],
   "source": [
    "qvalues = dict()\n",
    "for i in range(4):\n",
    "    for j in range(4):\n",
    "        qvalues[(i, j)] = { a: 0 for a in getValidActions((i, j)) }\n",
    "qvalues"
   ]
  },
  {
   "cell_type": "code",
   "execution_count": 54,
   "id": "7639dc33",
   "metadata": {},
   "outputs": [
    {
     "data": {
      "text/plain": [
       "[(1, np.float64(0.9500000000000001)), (3, np.float64(0.05))]"
      ]
     },
     "execution_count": 54,
     "metadata": {},
     "output_type": "execute_result"
    }
   ],
   "source": [
    "def epsilon_soft_policy(q_values: dict, epsilon=0.1):\n",
    "    \"\"\"\n",
    "    Create an epsilon-soft policy based on Q-values.\n",
    "\n",
    "    Args:\n",
    "        q_values (list or np.array): Q-values for each action at a given state.\n",
    "        epsilon (float): Probability of exploring (should be between 0 and 1).\n",
    "\n",
    "    Returns:\n",
    "        np.array: Probability distribution over actions (epsilon-soft policy).\n",
    "    \"\"\"\n",
    "    Q = q_values\n",
    "    q_values = q_values.items()\n",
    "    num_actions = len(q_values)\n",
    "    policy = np.ones(num_actions) * (epsilon / num_actions)\n",
    "\n",
    "    best_action = np.argmax(q_values)\n",
    "    policy[best_action] += 1.0 - epsilon\n",
    "\n",
    "    return [(k, v) for k, v in zip(Q.keys(), policy)]\n",
    "epsilon_soft_policy(qvalues[(0, 0)])"
   ]
  },
  {
   "cell_type": "code",
   "execution_count": null,
   "id": "a0e45eca",
   "metadata": {},
   "outputs": [
    {
     "name": "stdout",
     "output_type": "stream",
     "text": [
      "[(((0, 0), np.int64(1)), -1), (((1, 0), np.int64(1)), -1), (((2, 0), np.int64(3)), -1), (((2, 1), np.int64(3)), -1), (((2, 2), np.int64(0)), -1), (((1, 2), np.int64(1)), -1), (((2, 2), np.int64(0)), -1), (((1, 2), np.int64(3)), -1), (((1, 3), np.int64(1)), -1), (((2, 3), np.int64(1)), 10)]\n",
      "[(((0, 0), np.int64(1)), -1), (((1, 0), np.int64(3)), -10)]\n",
      "[(((0, 0), np.int64(3)), -1), (((0, 1), np.int64(2)), -1), (((0, 0), np.int64(3)), -1), (((0, 1), np.int64(2)), -1), (((0, 0), np.int64(1)), -1), (((1, 0), np.int64(1)), -1), (((2, 0), np.int64(3)), -1), (((2, 1), np.int64(2)), -1), (((2, 0), np.int64(3)), -1), (((2, 1), np.int64(2)), -1), (((2, 0), np.int64(3)), -1), (((2, 1), np.int64(3)), -1), (((2, 2), np.int64(2)), -1), (((2, 1), np.int64(2)), -1), (((2, 0), np.int64(0)), -1), (((1, 0), np.int64(1)), -1), (((2, 0), np.int64(3)), -1), (((2, 1), np.int64(3)), -1), (((2, 2), np.int64(1)), -1), (((3, 2), np.int64(0)), -1), (((2, 2), np.int64(2)), -1), (((2, 1), np.int64(1)), -1), (((3, 1), np.int64(2)), -1), (((3, 0), np.int64(3)), -1), (((3, 1), np.int64(3)), -1), (((3, 2), np.int64(3)), 10)]\n",
      "[(((0, 0), np.int64(3)), -1), (((0, 1), np.int64(3)), -1), (((0, 2), np.int64(2)), -1), (((0, 1), np.int64(3)), -1), (((0, 2), np.int64(1)), -1), (((1, 2), np.int64(1)), -1), (((2, 2), np.int64(0)), -1), (((1, 2), np.int64(2)), -10)]\n",
      "[(((0, 0), np.int64(3)), -1), (((0, 1), np.int64(2)), -1), (((0, 0), np.int64(3)), -1), (((0, 1), np.int64(3)), -1), (((0, 2), np.int64(3)), -1), (((0, 3), np.int64(1)), -1), (((1, 3), np.int64(0)), -1), (((0, 3), np.int64(2)), -1), (((0, 2), np.int64(3)), -1), (((0, 3), np.int64(2)), -1), (((0, 2), np.int64(3)), -1), (((0, 3), np.int64(1)), -1), (((1, 3), np.int64(1)), -1), (((2, 3), np.int64(2)), -1), (((2, 2), np.int64(0)), -1), (((1, 2), np.int64(0)), -1), (((0, 2), np.int64(3)), -1), (((0, 3), np.int64(2)), -1), (((0, 2), np.int64(3)), -1), (((0, 3), np.int64(1)), -1), (((1, 3), np.int64(1)), -1), (((2, 3), np.int64(1)), 10)]\n",
      "[(((0, 0), np.int64(1)), -1), (((1, 0), np.int64(3)), -10)]\n",
      "[(((0, 0), np.int64(1)), -1), (((1, 0), np.int64(3)), -10)]\n",
      "[(((0, 0), np.int64(3)), -1), (((0, 1), np.int64(3)), -1), (((0, 2), np.int64(3)), -1), (((0, 3), np.int64(2)), -1), (((0, 2), np.int64(2)), -1), (((0, 1), np.int64(3)), -1), (((0, 2), np.int64(2)), -1), (((0, 1), np.int64(3)), -1), (((0, 2), np.int64(3)), -1), (((0, 3), np.int64(2)), -1), (((0, 2), np.int64(3)), -1), (((0, 3), np.int64(1)), -1), (((1, 3), np.int64(2)), -1), (((1, 2), np.int64(0)), -1), (((0, 2), np.int64(1)), -1), (((1, 2), np.int64(0)), -1), (((0, 2), np.int64(2)), -1), (((0, 1), np.int64(3)), -1), (((0, 2), np.int64(3)), -1), (((0, 3), np.int64(2)), -1), (((0, 2), np.int64(1)), -1), (((1, 2), np.int64(1)), -1), (((2, 2), np.int64(3)), -1), (((2, 3), np.int64(0)), -1), (((1, 3), np.int64(1)), -1), (((2, 3), np.int64(1)), 10)]\n",
      "[(((0, 0), np.int64(3)), -1), (((0, 1), np.int64(1)), -10)]\n",
      "[(((0, 0), np.int64(3)), -1), (((0, 1), np.int64(2)), -1), (((0, 0), np.int64(3)), -1), (((0, 1), np.int64(2)), -1), (((0, 0), np.int64(1)), -1), (((1, 0), np.int64(0)), -1), (((0, 0), np.int64(1)), -1), (((1, 0), np.int64(1)), -1), (((2, 0), np.int64(1)), -1), (((3, 0), np.int64(3)), -1), (((3, 1), np.int64(3)), -1), (((3, 2), np.int64(3)), 10)]\n"
     ]
    }
   ],
   "source": [
    "def generateEpisode():\n",
    "    trajectory = []\n",
    "    curr = (0, 0)\n",
    "    while curr != (1, 1) and curr != (3, 3):\n",
    "        # action = max(epsilon_soft_policy(qvalues[curr]), key= lambda x: x[1])[0]\n",
    "        action = np.random.choice(getValidActions(curr))\n",
    "        # print(f\"at pos {curr} got action {reverseActionsMap[action]}\")\n",
    "        next = move(curr, action)\n",
    "        trajectory.append(((curr, action), getReward(next)))\n",
    "        curr = next\n",
    "\n",
    "    return trajectory\n",
    "\n",
    "for i in range(10):\n",
    "    print(generateEpisode())"
   ]
  },
  {
   "cell_type": "code",
   "execution_count": null,
   "id": "0d70f8ef",
   "metadata": {},
   "outputs": [
    {
     "ename": "_IncompleteInputError",
     "evalue": "incomplete input (4261081048.py, line 1)",
     "output_type": "error",
     "traceback": [
      "  \u001b[36mCell\u001b[39m\u001b[36m \u001b[39m\u001b[32mIn[23]\u001b[39m\u001b[32m, line 1\u001b[39m\n\u001b[31m    \u001b[39m\u001b[31mdef montecarlo(stateValues):\u001b[39m\n                                ^\n\u001b[31m_IncompleteInputError\u001b[39m\u001b[31m:\u001b[39m incomplete input\n"
     ]
    }
   ],
   "source": [
    "def montecarlo(trajectories, gamma=0.9):\n",
    "    returns_sum = set()\n",
    "    returns_count = set()\n",
    "    for trajectory in trajectories:\n",
    "        Gt = 0\n",
    "        for i in range(len(trajectory) - 1, -1, -1):\n",
    "            if \n"
   ]
  }
 ],
 "metadata": {
  "kernelspec": {
   "display_name": "Python 3",
   "language": "python",
   "name": "python3"
  },
  "language_info": {
   "codemirror_mode": {
    "name": "ipython",
    "version": 3
   },
   "file_extension": ".py",
   "mimetype": "text/x-python",
   "name": "python",
   "nbconvert_exporter": "python",
   "pygments_lexer": "ipython3",
   "version": "3.13.5"
  }
 },
 "nbformat": 4,
 "nbformat_minor": 5
}
